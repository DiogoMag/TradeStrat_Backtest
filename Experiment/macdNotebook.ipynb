{
 "cells": [
  {
   "cell_type": "code",
   "execution_count": 7,
   "metadata": {},
   "outputs": [],
   "source": [
    "import pandas as pd\n",
    "import pandas_ta as ta\n",
    "import yfinance as yf\n",
    "import matplotlib.pyplot as plt\n",
    "from datetime import datetime, timedelta"
   ]
  },
  {
   "attachments": {},
   "cell_type": "markdown",
   "metadata": {},
   "source": [
    "### Setting rows on dataframes to max instead of shortening them for ease \n",
    "#### ( use .head(5) or .tail(5) for summarized version if needed )"
   ]
  },
  {
   "cell_type": "code",
   "execution_count": 8,
   "metadata": {},
   "outputs": [],
   "source": [
    "pd.set_option('display.max_rows', None)\n",
    "pd.set_option('display.max_columns', None)"
   ]
  },
  {
   "attachments": {},
   "cell_type": "markdown",
   "metadata": {},
   "source": [
    "### Defining the timeframe for the data extraction \n",
    "#### (X days back back from current day)"
   ]
  },
  {
   "cell_type": "code",
   "execution_count": 9,
   "metadata": {},
   "outputs": [],
   "source": [
    "today = datetime.today()\n",
    "X_ago = (today - timedelta(days=30)).strftime('%Y-%m-%d')"
   ]
  },
  {
   "attachments": {},
   "cell_type": "markdown",
   "metadata": {},
   "source": [
    "### Get data from yahoo finance api"
   ]
  },
  {
   "cell_type": "code",
   "execution_count": 10,
   "metadata": {},
   "outputs": [
    {
     "name": "stdout",
     "output_type": "stream",
     "text": [
      "[*********************100%***********************]  1 of 1 completed\n"
     ]
    },
    {
     "data": {
      "text/html": [
       "<div>\n",
       "<style scoped>\n",
       "    .dataframe tbody tr th:only-of-type {\n",
       "        vertical-align: middle;\n",
       "    }\n",
       "\n",
       "    .dataframe tbody tr th {\n",
       "        vertical-align: top;\n",
       "    }\n",
       "\n",
       "    .dataframe thead th {\n",
       "        text-align: right;\n",
       "    }\n",
       "</style>\n",
       "<table border=\"1\" class=\"dataframe\">\n",
       "  <thead>\n",
       "    <tr style=\"text-align: right;\">\n",
       "      <th></th>\n",
       "      <th>Open</th>\n",
       "      <th>High</th>\n",
       "      <th>Low</th>\n",
       "      <th>Close</th>\n",
       "      <th>Volume</th>\n",
       "    </tr>\n",
       "    <tr>\n",
       "      <th>Datetime</th>\n",
       "      <th></th>\n",
       "      <th></th>\n",
       "      <th></th>\n",
       "      <th></th>\n",
       "      <th></th>\n",
       "    </tr>\n",
       "  </thead>\n",
       "  <tbody>\n",
       "    <tr>\n",
       "      <th>2023-04-06 21:00:00+00:00</th>\n",
       "      <td>27988.839844</td>\n",
       "      <td>28041.214844</td>\n",
       "      <td>27977.337891</td>\n",
       "      <td>27995.966797</td>\n",
       "      <td>0</td>\n",
       "    </tr>\n",
       "    <tr>\n",
       "      <th>2023-04-06 22:00:00+00:00</th>\n",
       "      <td>27994.730469</td>\n",
       "      <td>28017.050781</td>\n",
       "      <td>27933.515625</td>\n",
       "      <td>28012.847656</td>\n",
       "      <td>29019136</td>\n",
       "    </tr>\n",
       "    <tr>\n",
       "      <th>2023-04-06 23:00:00+00:00</th>\n",
       "      <td>28034.193359</td>\n",
       "      <td>28034.193359</td>\n",
       "      <td>28034.193359</td>\n",
       "      <td>28034.193359</td>\n",
       "      <td>0</td>\n",
       "    </tr>\n",
       "  </tbody>\n",
       "</table>\n",
       "</div>"
      ],
      "text/plain": [
       "                                   Open          High           Low  \\\n",
       "Datetime                                                              \n",
       "2023-04-06 21:00:00+00:00  27988.839844  28041.214844  27977.337891   \n",
       "2023-04-06 22:00:00+00:00  27994.730469  28017.050781  27933.515625   \n",
       "2023-04-06 23:00:00+00:00  28034.193359  28034.193359  28034.193359   \n",
       "\n",
       "                                  Close    Volume  \n",
       "Datetime                                           \n",
       "2023-04-06 21:00:00+00:00  27995.966797         0  \n",
       "2023-04-06 22:00:00+00:00  28012.847656  29019136  \n",
       "2023-04-06 23:00:00+00:00  28034.193359         0  "
      ]
     },
     "execution_count": 10,
     "metadata": {},
     "output_type": "execute_result"
    }
   ],
   "source": [
    "data = yf.download(\"BTC-USD\", start = X_ago, end = today, interval = \"1h\")\n",
    "data.drop('Adj Close', axis=1, inplace=True)\n",
    "data.tail(3)"
   ]
  },
  {
   "attachments": {},
   "cell_type": "markdown",
   "metadata": {},
   "source": [
    "### Add MACD to df"
   ]
  },
  {
   "cell_type": "code",
   "execution_count": 11,
   "metadata": {},
   "outputs": [
    {
     "data": {
      "text/html": [
       "<div>\n",
       "<style scoped>\n",
       "    .dataframe tbody tr th:only-of-type {\n",
       "        vertical-align: middle;\n",
       "    }\n",
       "\n",
       "    .dataframe tbody tr th {\n",
       "        vertical-align: top;\n",
       "    }\n",
       "\n",
       "    .dataframe thead th {\n",
       "        text-align: right;\n",
       "    }\n",
       "</style>\n",
       "<table border=\"1\" class=\"dataframe\">\n",
       "  <thead>\n",
       "    <tr style=\"text-align: right;\">\n",
       "      <th></th>\n",
       "      <th>MACD_12_26_9</th>\n",
       "      <th>MACDh_12_26_9</th>\n",
       "      <th>MACDs_12_26_9</th>\n",
       "    </tr>\n",
       "    <tr>\n",
       "      <th>Datetime</th>\n",
       "      <th></th>\n",
       "      <th></th>\n",
       "      <th></th>\n",
       "    </tr>\n",
       "  </thead>\n",
       "  <tbody>\n",
       "    <tr>\n",
       "      <th>2023-04-06 21:00:00+00:00</th>\n",
       "      <td>-36.500425</td>\n",
       "      <td>15.759138</td>\n",
       "      <td>-52.259564</td>\n",
       "    </tr>\n",
       "    <tr>\n",
       "      <th>2023-04-06 22:00:00+00:00</th>\n",
       "      <td>-33.382776</td>\n",
       "      <td>15.101430</td>\n",
       "      <td>-48.484206</td>\n",
       "    </tr>\n",
       "    <tr>\n",
       "      <th>2023-04-06 23:00:00+00:00</th>\n",
       "      <td>-28.856952</td>\n",
       "      <td>15.701803</td>\n",
       "      <td>-44.558755</td>\n",
       "    </tr>\n",
       "  </tbody>\n",
       "</table>\n",
       "</div>"
      ],
      "text/plain": [
       "                           MACD_12_26_9  MACDh_12_26_9  MACDs_12_26_9\n",
       "Datetime                                                             \n",
       "2023-04-06 21:00:00+00:00    -36.500425      15.759138     -52.259564\n",
       "2023-04-06 22:00:00+00:00    -33.382776      15.101430     -48.484206\n",
       "2023-04-06 23:00:00+00:00    -28.856952      15.701803     -44.558755"
      ]
     },
     "execution_count": 11,
     "metadata": {},
     "output_type": "execute_result"
    }
   ],
   "source": [
    "data2 = data.ta.macd()\n",
    "data2.tail(3)"
   ]
  },
  {
   "attachments": {},
   "cell_type": "markdown",
   "metadata": {},
   "source": [
    "### Concat the 2 dfs together"
   ]
  },
  {
   "cell_type": "code",
   "execution_count": 12,
   "metadata": {},
   "outputs": [
    {
     "data": {
      "text/html": [
       "<div>\n",
       "<style scoped>\n",
       "    .dataframe tbody tr th:only-of-type {\n",
       "        vertical-align: middle;\n",
       "    }\n",
       "\n",
       "    .dataframe tbody tr th {\n",
       "        vertical-align: top;\n",
       "    }\n",
       "\n",
       "    .dataframe thead th {\n",
       "        text-align: right;\n",
       "    }\n",
       "</style>\n",
       "<table border=\"1\" class=\"dataframe\">\n",
       "  <thead>\n",
       "    <tr style=\"text-align: right;\">\n",
       "      <th></th>\n",
       "      <th>Open</th>\n",
       "      <th>High</th>\n",
       "      <th>Low</th>\n",
       "      <th>Close</th>\n",
       "      <th>Volume</th>\n",
       "      <th>MACD_12_26_9</th>\n",
       "      <th>MACDh_12_26_9</th>\n",
       "      <th>MACDs_12_26_9</th>\n",
       "    </tr>\n",
       "    <tr>\n",
       "      <th>Datetime</th>\n",
       "      <th></th>\n",
       "      <th></th>\n",
       "      <th></th>\n",
       "      <th></th>\n",
       "      <th></th>\n",
       "      <th></th>\n",
       "      <th></th>\n",
       "      <th></th>\n",
       "    </tr>\n",
       "  </thead>\n",
       "  <tbody>\n",
       "    <tr>\n",
       "      <th>2023-04-06 21:00:00+00:00</th>\n",
       "      <td>27988.839844</td>\n",
       "      <td>28041.214844</td>\n",
       "      <td>27977.337891</td>\n",
       "      <td>27995.966797</td>\n",
       "      <td>0</td>\n",
       "      <td>-36.500425</td>\n",
       "      <td>15.759138</td>\n",
       "      <td>-52.259564</td>\n",
       "    </tr>\n",
       "    <tr>\n",
       "      <th>2023-04-06 22:00:00+00:00</th>\n",
       "      <td>27994.730469</td>\n",
       "      <td>28017.050781</td>\n",
       "      <td>27933.515625</td>\n",
       "      <td>28012.847656</td>\n",
       "      <td>29019136</td>\n",
       "      <td>-33.382776</td>\n",
       "      <td>15.101430</td>\n",
       "      <td>-48.484206</td>\n",
       "    </tr>\n",
       "    <tr>\n",
       "      <th>2023-04-06 23:00:00+00:00</th>\n",
       "      <td>28034.193359</td>\n",
       "      <td>28034.193359</td>\n",
       "      <td>28034.193359</td>\n",
       "      <td>28034.193359</td>\n",
       "      <td>0</td>\n",
       "      <td>-28.856952</td>\n",
       "      <td>15.701803</td>\n",
       "      <td>-44.558755</td>\n",
       "    </tr>\n",
       "  </tbody>\n",
       "</table>\n",
       "</div>"
      ],
      "text/plain": [
       "                                   Open          High           Low  \\\n",
       "Datetime                                                              \n",
       "2023-04-06 21:00:00+00:00  27988.839844  28041.214844  27977.337891   \n",
       "2023-04-06 22:00:00+00:00  27994.730469  28017.050781  27933.515625   \n",
       "2023-04-06 23:00:00+00:00  28034.193359  28034.193359  28034.193359   \n",
       "\n",
       "                                  Close    Volume  MACD_12_26_9  \\\n",
       "Datetime                                                          \n",
       "2023-04-06 21:00:00+00:00  27995.966797         0    -36.500425   \n",
       "2023-04-06 22:00:00+00:00  28012.847656  29019136    -33.382776   \n",
       "2023-04-06 23:00:00+00:00  28034.193359         0    -28.856952   \n",
       "\n",
       "                           MACDh_12_26_9  MACDs_12_26_9  \n",
       "Datetime                                                 \n",
       "2023-04-06 21:00:00+00:00      15.759138     -52.259564  \n",
       "2023-04-06 22:00:00+00:00      15.101430     -48.484206  \n",
       "2023-04-06 23:00:00+00:00      15.701803     -44.558755  "
      ]
     },
     "execution_count": 12,
     "metadata": {},
     "output_type": "execute_result"
    }
   ],
   "source": [
    "data3 = pd.concat([data, data2], axis=1)\n",
    "data3.tail(3)"
   ]
  }
 ],
 "metadata": {
  "kernelspec": {
   "display_name": "TradeStrat_Backtest_ENV",
   "language": "python",
   "name": "python3"
  },
  "language_info": {
   "codemirror_mode": {
    "name": "ipython",
    "version": 3
   },
   "file_extension": ".py",
   "mimetype": "text/x-python",
   "name": "python",
   "nbconvert_exporter": "python",
   "pygments_lexer": "ipython3",
   "version": "3.10.10"
  },
  "orig_nbformat": 4
 },
 "nbformat": 4,
 "nbformat_minor": 2
}
