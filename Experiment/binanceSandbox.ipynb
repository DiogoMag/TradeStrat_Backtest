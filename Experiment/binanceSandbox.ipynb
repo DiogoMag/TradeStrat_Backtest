{
 "cells": [
  {
   "cell_type": "code",
   "execution_count": 1,
   "metadata": {},
   "outputs": [],
   "source": [
    "import binance\n",
    "import os"
   ]
  },
  {
   "cell_type": "code",
   "execution_count": 2,
   "metadata": {},
   "outputs": [],
   "source": [
    "test_api_key = os.environ.get('test_api_key')"
   ]
  },
  {
   "cell_type": "code",
   "execution_count": 3,
   "metadata": {},
   "outputs": [
    {
     "name": "stdout",
     "output_type": "stream",
     "text": [
      "jaczDqYwT00KSbl46ft4WVnMA07AjNxW3vzlACWEfb7DEzf1c2Yw5DDAJ63Q35Vg\n"
     ]
    }
   ],
   "source": [
    "print(test_api_key)"
   ]
  }
 ],
 "metadata": {
  "kernelspec": {
   "display_name": "TradeStrat_Backtest_ENV",
   "language": "python",
   "name": "python3"
  },
  "language_info": {
   "codemirror_mode": {
    "name": "ipython",
    "version": 3
   },
   "file_extension": ".py",
   "mimetype": "text/x-python",
   "name": "python",
   "nbconvert_exporter": "python",
   "pygments_lexer": "ipython3",
   "version": "3.10.10"
  },
  "orig_nbformat": 4
 },
 "nbformat": 4,
 "nbformat_minor": 2
}
